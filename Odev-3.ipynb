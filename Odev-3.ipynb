{
 "cells": [
  {
   "cell_type": "markdown",
   "id": "43440fe0-f9eb-4e59-93b8-6cfba2069547",
   "metadata": {},
   "source": [
    "## Odev 3"
   ]
  },
  {
   "cell_type": "markdown",
   "id": "5394dfcf-e1d5-4015-bb0a-b5ace0fe74eb",
   "metadata": {},
   "source": [
    "#### 1. Question"
   ]
  },
  {
   "cell_type": "code",
   "execution_count": 1,
   "id": "2ad45d1d-0ca8-484d-aaa7-26da7325a201",
   "metadata": {},
   "outputs": [],
   "source": [
    "import numpy as np\n",
    "import pandas as pd\n",
    "import seaborn as sns\n",
    "from matplotlib import pyplot as plt"
   ]
  },
  {
   "cell_type": "code",
   "execution_count": 2,
   "id": "65d60dc3-cfd9-47a8-900a-b30895dbf8d0",
   "metadata": {},
   "outputs": [],
   "source": [
    "pd.set_option('display.max_columns', None)\n",
    "pd.set_option('display.max_rows', None)\n",
    "pd.set_option('display.width', 170)"
   ]
  },
  {
   "cell_type": "code",
   "execution_count": 3,
   "id": "49e37b1a-938c-4aa4-a562-d4dcc1dc55b7",
   "metadata": {},
   "outputs": [
    {
     "data": {
      "text/html": [
       "<div>\n",
       "<style scoped>\n",
       "    .dataframe tbody tr th:only-of-type {\n",
       "        vertical-align: middle;\n",
       "    }\n",
       "\n",
       "    .dataframe tbody tr th {\n",
       "        vertical-align: top;\n",
       "    }\n",
       "\n",
       "    .dataframe thead th {\n",
       "        text-align: right;\n",
       "    }\n",
       "</style>\n",
       "<table border=\"1\" class=\"dataframe\">\n",
       "  <thead>\n",
       "    <tr style=\"text-align: right;\">\n",
       "      <th></th>\n",
       "      <th>PRICE</th>\n",
       "      <th>SOURCE</th>\n",
       "      <th>SEX</th>\n",
       "      <th>COUNTRY</th>\n",
       "      <th>AGE</th>\n",
       "    </tr>\n",
       "  </thead>\n",
       "  <tbody>\n",
       "    <tr>\n",
       "      <th>0</th>\n",
       "      <td>39</td>\n",
       "      <td>android</td>\n",
       "      <td>male</td>\n",
       "      <td>bra</td>\n",
       "      <td>17</td>\n",
       "    </tr>\n",
       "    <tr>\n",
       "      <th>1</th>\n",
       "      <td>39</td>\n",
       "      <td>android</td>\n",
       "      <td>male</td>\n",
       "      <td>bra</td>\n",
       "      <td>17</td>\n",
       "    </tr>\n",
       "    <tr>\n",
       "      <th>2</th>\n",
       "      <td>49</td>\n",
       "      <td>android</td>\n",
       "      <td>male</td>\n",
       "      <td>bra</td>\n",
       "      <td>17</td>\n",
       "    </tr>\n",
       "    <tr>\n",
       "      <th>3</th>\n",
       "      <td>29</td>\n",
       "      <td>android</td>\n",
       "      <td>male</td>\n",
       "      <td>tur</td>\n",
       "      <td>17</td>\n",
       "    </tr>\n",
       "    <tr>\n",
       "      <th>4</th>\n",
       "      <td>49</td>\n",
       "      <td>android</td>\n",
       "      <td>male</td>\n",
       "      <td>tur</td>\n",
       "      <td>17</td>\n",
       "    </tr>\n",
       "  </tbody>\n",
       "</table>\n",
       "</div>"
      ],
      "text/plain": [
       "   PRICE   SOURCE   SEX COUNTRY  AGE\n",
       "0     39  android  male     bra   17\n",
       "1     39  android  male     bra   17\n",
       "2     49  android  male     bra   17\n",
       "3     29  android  male     tur   17\n",
       "4     49  android  male     tur   17"
      ]
     },
     "execution_count": 3,
     "metadata": {},
     "output_type": "execute_result"
    }
   ],
   "source": [
    "df = pd.read_csv(\"persona.csv\")\n",
    "df.head()"
   ]
  },
  {
   "cell_type": "code",
   "execution_count": 4,
   "id": "21a81a76-2b9c-4c57-8911-43b5dff8170b",
   "metadata": {},
   "outputs": [
    {
     "name": "stdout",
     "output_type": "stream",
     "text": [
      "<class 'pandas.core.frame.DataFrame'>\n",
      "Int64Index: 5000 entries, 0 to 4999\n",
      "Data columns (total 5 columns):\n",
      " #   Column   Non-Null Count  Dtype \n",
      "---  ------   --------------  ----- \n",
      " 0   PRICE    5000 non-null   int64 \n",
      " 1   SOURCE   5000 non-null   object\n",
      " 2   SEX      5000 non-null   object\n",
      " 3   COUNTRY  5000 non-null   object\n",
      " 4   AGE      5000 non-null   int64 \n",
      "dtypes: int64(2), object(3)\n",
      "memory usage: 234.4+ KB\n"
     ]
    }
   ],
   "source": [
    "df.info()"
   ]
  },
  {
   "cell_type": "code",
   "execution_count": 5,
   "id": "a16d72b6-5041-46ca-9c53-2583d915cf3d",
   "metadata": {},
   "outputs": [],
   "source": [
    "def check_df(dataframe, head=5):\n",
    "    print(\"SHAPE : \\n{}\".format(dataframe.shape))\n",
    "    print(\"-------------------\"*3)\n",
    "\n",
    "    print(\"TYPES : \\n{}\".format(dataframe.dtypes))\n",
    "    print(\"-------------------\"*3)\n",
    "\n",
    "    print(\"HEAD : \\n{}\".format(dataframe.head(head)))\n",
    "    print(\"-------------------\"*3)\n",
    "\n",
    "    print(\"TAIL : \\n{}\".format(dataframe.tail(head)))\n",
    "    print(\"-------------------\"*3)\n",
    "\n",
    "    print(\"NaN COLUMNS : \\n{}\".format(df.isnull().any()))\n",
    "    print(\"-------------------\"*3)\n",
    "\n",
    "    print(\"DESCRIBE : \\n{}\".format(dataframe.describe().T))"
   ]
  },
  {
   "cell_type": "code",
   "execution_count": 6,
   "id": "db795fda-205e-4a74-89a1-4d2e0321308f",
   "metadata": {},
   "outputs": [
    {
     "name": "stdout",
     "output_type": "stream",
     "text": [
      "SHAPE : \n",
      "(5000, 5)\n",
      "---------------------------------------------------------\n",
      "TYPES : \n",
      "PRICE       int64\n",
      "SOURCE     object\n",
      "SEX        object\n",
      "COUNTRY    object\n",
      "AGE         int64\n",
      "dtype: object\n",
      "---------------------------------------------------------\n",
      "HEAD : \n",
      "   PRICE   SOURCE   SEX COUNTRY  AGE\n",
      "0     39  android  male     bra   17\n",
      "1     39  android  male     bra   17\n",
      "2     49  android  male     bra   17\n",
      "3     29  android  male     tur   17\n",
      "4     49  android  male     tur   17\n",
      "---------------------------------------------------------\n",
      "TAIL : \n",
      "      PRICE   SOURCE     SEX COUNTRY  AGE\n",
      "4995     29  android  female     bra   31\n",
      "4996     29  android  female     bra   31\n",
      "4997     29  android  female     bra   31\n",
      "4998     39  android  female     bra   31\n",
      "4999     29  android  female     bra   31\n",
      "---------------------------------------------------------\n",
      "NaN COLUMNS : \n",
      "PRICE      False\n",
      "SOURCE     False\n",
      "SEX        False\n",
      "COUNTRY    False\n",
      "AGE        False\n",
      "dtype: bool\n",
      "---------------------------------------------------------\n",
      "DESCRIBE : \n",
      "        count     mean        std   min   25%   50%   75%   max\n",
      "PRICE  5000.0  34.1320  12.464897   9.0  29.0  39.0  39.0  59.0\n",
      "AGE    5000.0  23.5814   8.995908  15.0  17.0  21.0  27.0  66.0\n"
     ]
    }
   ],
   "source": [
    "check_df(df)"
   ]
  },
  {
   "cell_type": "code",
   "execution_count": 7,
   "id": "1946584b-3f0e-42bc-a3fe-0dfd5f916d96",
   "metadata": {},
   "outputs": [
    {
     "data": {
      "text/plain": [
       "PRICE       6\n",
       "SOURCE      2\n",
       "SEX         2\n",
       "COUNTRY     6\n",
       "AGE        46\n",
       "dtype: int64"
      ]
     },
     "execution_count": 7,
     "metadata": {},
     "output_type": "execute_result"
    }
   ],
   "source": [
    "df[df.columns].nunique()"
   ]
  },
  {
   "cell_type": "code",
   "execution_count": 8,
   "id": "12f7b636-7a27-4ef6-917f-d07f8f1e417f",
   "metadata": {},
   "outputs": [],
   "source": [
    "df[\"AGE_RANGE\"] = [\"teen\" if rng < 40 else \"old\" for rng in df[\"AGE\"]]"
   ]
  },
  {
   "cell_type": "code",
   "execution_count": 9,
   "id": "af6c24dc-3dd6-4662-a874-0618aceee36c",
   "metadata": {},
   "outputs": [
    {
     "data": {
      "text/html": [
       "<div>\n",
       "<style scoped>\n",
       "    .dataframe tbody tr th:only-of-type {\n",
       "        vertical-align: middle;\n",
       "    }\n",
       "\n",
       "    .dataframe tbody tr th {\n",
       "        vertical-align: top;\n",
       "    }\n",
       "\n",
       "    .dataframe thead th {\n",
       "        text-align: right;\n",
       "    }\n",
       "</style>\n",
       "<table border=\"1\" class=\"dataframe\">\n",
       "  <thead>\n",
       "    <tr style=\"text-align: right;\">\n",
       "      <th></th>\n",
       "      <th>PRICE</th>\n",
       "      <th>SOURCE</th>\n",
       "      <th>SEX</th>\n",
       "      <th>COUNTRY</th>\n",
       "      <th>AGE</th>\n",
       "      <th>AGE_RANGE</th>\n",
       "    </tr>\n",
       "  </thead>\n",
       "  <tbody>\n",
       "    <tr>\n",
       "      <th>0</th>\n",
       "      <td>39</td>\n",
       "      <td>android</td>\n",
       "      <td>male</td>\n",
       "      <td>bra</td>\n",
       "      <td>17</td>\n",
       "      <td>teen</td>\n",
       "    </tr>\n",
       "    <tr>\n",
       "      <th>1</th>\n",
       "      <td>39</td>\n",
       "      <td>android</td>\n",
       "      <td>male</td>\n",
       "      <td>bra</td>\n",
       "      <td>17</td>\n",
       "      <td>teen</td>\n",
       "    </tr>\n",
       "    <tr>\n",
       "      <th>2</th>\n",
       "      <td>49</td>\n",
       "      <td>android</td>\n",
       "      <td>male</td>\n",
       "      <td>bra</td>\n",
       "      <td>17</td>\n",
       "      <td>teen</td>\n",
       "    </tr>\n",
       "    <tr>\n",
       "      <th>3</th>\n",
       "      <td>29</td>\n",
       "      <td>android</td>\n",
       "      <td>male</td>\n",
       "      <td>tur</td>\n",
       "      <td>17</td>\n",
       "      <td>teen</td>\n",
       "    </tr>\n",
       "    <tr>\n",
       "      <th>4</th>\n",
       "      <td>49</td>\n",
       "      <td>android</td>\n",
       "      <td>male</td>\n",
       "      <td>tur</td>\n",
       "      <td>17</td>\n",
       "      <td>teen</td>\n",
       "    </tr>\n",
       "  </tbody>\n",
       "</table>\n",
       "</div>"
      ],
      "text/plain": [
       "   PRICE   SOURCE   SEX COUNTRY  AGE AGE_RANGE\n",
       "0     39  android  male     bra   17      teen\n",
       "1     39  android  male     bra   17      teen\n",
       "2     49  android  male     bra   17      teen\n",
       "3     29  android  male     tur   17      teen\n",
       "4     49  android  male     tur   17      teen"
      ]
     },
     "execution_count": 9,
     "metadata": {},
     "output_type": "execute_result"
    }
   ],
   "source": [
    "df.head()"
   ]
  },
  {
   "cell_type": "code",
   "execution_count": 10,
   "id": "31129249-f057-4cc6-82f2-23f05498d3c7",
   "metadata": {},
   "outputs": [
    {
     "data": {
      "text/plain": [
       "['SOURCE', 'SEX', 'COUNTRY', 'AGE_RANGE']"
      ]
     },
     "execution_count": 10,
     "metadata": {},
     "output_type": "execute_result"
    }
   ],
   "source": [
    "cat_cols = [col for col in df.columns if df[col].dtypes == \"O\"]\n",
    "cat_cols"
   ]
  },
  {
   "cell_type": "code",
   "execution_count": 11,
   "id": "62f49043-97b5-4c54-a160-d47bac43168a",
   "metadata": {},
   "outputs": [
    {
     "data": {
      "text/plain": [
       "['PRICE']"
      ]
     },
     "execution_count": 11,
     "metadata": {},
     "output_type": "execute_result"
    }
   ],
   "source": [
    "num_but_cat = [col for col in df.columns if df[col].nunique() < 20 and df[col].dtypes != \"O\"]\n",
    "num_but_cat"
   ]
  },
  {
   "cell_type": "code",
   "execution_count": 12,
   "id": "ee1c6596-0485-4d38-a0f4-a6eb02badfe0",
   "metadata": {},
   "outputs": [
    {
     "data": {
      "text/plain": [
       "[]"
      ]
     },
     "execution_count": 12,
     "metadata": {},
     "output_type": "execute_result"
    }
   ],
   "source": [
    "cat_but_car = [col for col in df.columns if df[col].nunique() > 20 and df[col].dtypes == \"O\"]\n",
    "cat_but_car"
   ]
  },
  {
   "cell_type": "code",
   "execution_count": 13,
   "id": "6f59f7ce-781a-48fe-9cb1-f366394360bd",
   "metadata": {},
   "outputs": [
    {
     "data": {
      "text/plain": [
       "['SOURCE', 'SEX', 'COUNTRY', 'AGE_RANGE', 'PRICE']"
      ]
     },
     "execution_count": 13,
     "metadata": {},
     "output_type": "execute_result"
    }
   ],
   "source": [
    "cat_cols = cat_cols + num_but_cat\n",
    "cat_cols"
   ]
  },
  {
   "cell_type": "code",
   "execution_count": 14,
   "id": "9b658914-6a46-4a6d-99ad-db972078e20a",
   "metadata": {},
   "outputs": [
    {
     "data": {
      "text/plain": [
       "['SOURCE', 'SEX', 'COUNTRY', 'AGE_RANGE', 'PRICE']"
      ]
     },
     "execution_count": 14,
     "metadata": {},
     "output_type": "execute_result"
    }
   ],
   "source": [
    "cat_cols = [col for col in cat_cols if col not in cat_but_car]\n",
    "cat_cols"
   ]
  },
  {
   "cell_type": "code",
   "execution_count": 15,
   "id": "f2f120f7-9107-4c53-a968-b965ff157b16",
   "metadata": {},
   "outputs": [
    {
     "data": {
      "text/plain": [
       "['PRICE', 'AGE']"
      ]
     },
     "execution_count": 15,
     "metadata": {},
     "output_type": "execute_result"
    }
   ],
   "source": [
    "num_cols = [col for col in df.columns if df[col].dtypes != 'O']\n",
    "num_cols"
   ]
  },
  {
   "cell_type": "code",
   "execution_count": 17,
   "id": "383aed5b-f430-4ee5-beda-8631bf73cd24",
   "metadata": {},
   "outputs": [
    {
     "data": {
      "text/plain": [
       "SOURCE       2\n",
       "SEX          2\n",
       "COUNTRY      6\n",
       "AGE_RANGE    2\n",
       "PRICE        6\n",
       "dtype: int64"
      ]
     },
     "execution_count": 17,
     "metadata": {},
     "output_type": "execute_result"
    }
   ],
   "source": [
    "df[cat_cols].nunique()"
   ]
  },
  {
   "cell_type": "code",
   "execution_count": 18,
   "id": "1265b773-cccf-4e71-8f19-92671f965f4d",
   "metadata": {},
   "outputs": [],
   "source": [
    "def num_summary(dataframe, numerical_col, plot=False):\n",
    "    print(\"--------------------\" + numerical_col + \"--------------------------\")\n",
    "\n",
    "    quantiles = [0.05, 0.10, 0.20, 0.30, 0.40, 0.50, 0.60, 0.70, 0.80, 0.90, 0.95, 0.99]\n",
    "\n",
    "    print(dataframe[numerical_col].describe(quantiles).T)\n",
    "\n",
    "    if plot:\n",
    "        sns.displot(dataframe[numerical_col], bins = 55, kde = True)\n",
    "        plt.xlabel(numerical_col)\n",
    "        plt.title(numerical_col + \" HIST\")\n",
    "        plt.show()\n",
    "        \n",
    "        plt.title(numerical_col + \" BOXPLOT\")\n",
    "        sns.boxplot(x = numerical_col ,data = dataframe)\n",
    "        plt.show()"
   ]
  },
  {
   "cell_type": "code",
   "execution_count": 19,
   "id": "6417d7d1-1afe-4c18-821f-69c2dfcbaf3a",
   "metadata": {},
   "outputs": [
    {
     "name": "stdout",
     "output_type": "stream",
     "text": [
      "--------------------PRICE--------------------------\n",
      "count    5000.000000\n",
      "mean       34.132000\n",
      "std        12.464897\n",
      "min         9.000000\n",
      "5%         19.000000\n",
      "10%        19.000000\n",
      "20%        19.000000\n",
      "30%        29.000000\n",
      "40%        29.000000\n",
      "50%        39.000000\n",
      "60%        39.000000\n",
      "70%        39.000000\n",
      "80%        49.000000\n",
      "90%        49.000000\n",
      "95%        49.000000\n",
      "99%        59.000000\n",
      "max        59.000000\n",
      "Name: PRICE, dtype: float64\n"
     ]
    },
    {
     "data": {
      "image/png": "[encoded data removed]",
      "text/plain": [
       "<Figure size 360x360 with 1 Axes>"
      ]
     },
     "metadata": {
      "needs_background": "light"
     },
     "output_type": "display_data"
    },
    {
     "data": {
      "image/png": "[encoded data removed]",
      "text/plain": [
       "<Figure size 432x288 with 1 Axes>"
      ]
     },
     "metadata": {
      "needs_background": "light"
     },
     "output_type": "display_data"
    },
    {
     "name": "stdout",
     "output_type": "stream",
     "text": [
      "--------------------AGE--------------------------\n",
      "count    5000.000000\n",
      "mean       23.581400\n",
      "std         8.995908\n",
      "min        15.000000\n",
      "5%         15.000000\n",
      "10%        15.000000\n",
      "20%        16.000000\n",
      "30%        17.000000\n",
      "40%        19.000000\n",
      "50%        21.000000\n",
      "60%        23.000000\n",
      "70%        26.000000\n",
      "80%        30.000000\n",
      "90%        36.000000\n",
      "95%        43.000000\n",
      "99%        53.000000\n",
      "max        66.000000\n",
      "Name: AGE, dtype: float64\n"
     ]
    },
    {
     "data": {
      "image/png": "[encoded data removed]",
      "text/plain": [
       "<Figure size 360x360 with 1 Axes>"
      ]
     },
     "metadata": {
      "needs_background": "light"
     },
     "output_type": "display_data"
    },
    {
     "data": {
      "image/png": "[encoded data removed]",
      "text/plain": [
       "<Figure size 432x288 with 1 Axes>"
      ]
     },
     "metadata": {
      "needs_background": "light"
     },
     "output_type": "display_data"
    }
   ],
   "source": [
    "for col in num_cols:\n",
    "    num_summary(df, col, plot=True)"
   ]
  },
  {
   "cell_type": "markdown",
   "id": "330b8753-d4d6-4755-a0b2-affdfdcf1110",
   "metadata": {},
   "source": [
    " #### \"AGE\" değişikeni için histogram grafiğine baktığımızda verisetimizin çoğunluklu olarak genç kullanıcılardan oluştuğunu gözlemliyoruz. \n",
    " #### \"PRICE\" değişkenimizin histogram grafiğine baktığımızda fiyatlandırmanın sabit aralıklarda olduğu için. kategorik bir değişken olduğunu gözlemliyoruz."
   ]
  },
  {
   "cell_type": "code",
   "execution_count": 20,
   "id": "d214d0fa-88e6-4df2-846f-376613c450f7",
   "metadata": {},
   "outputs": [
    {
     "name": "stdout",
     "output_type": "stream",
     "text": [
      "         SOURCE  Ratio\n",
      "android    2974  59.48\n",
      "ios        2026  40.52\n"
     ]
    },
    {
     "data": {
      "image/png": "[encoded data removed]",
      "text/plain": [
       "<Figure size 432x288 with 1 Axes>"
      ]
     },
     "metadata": {
      "needs_background": "light"
     },
     "output_type": "display_data"
    },
    {
     "name": "stdout",
     "output_type": "stream",
     "text": [
      "---------------------------------------------------------\n",
      "---------------------------------------------------------\n",
      "         SEX  Ratio\n",
      "female  2621  52.42\n",
      "male    2379  47.58\n"
     ]
    },
    {
     "data": {
      "image/png": "[encoded data removed]",
      "text/plain": [
       "<Figure size 432x288 with 1 Axes>"
      ]
     },
     "metadata": {
      "needs_background": "light"
     },
     "output_type": "display_data"
    },
    {
     "name": "stdout",
     "output_type": "stream",
     "text": [
      "---------------------------------------------------------\n",
      "---------------------------------------------------------\n",
      "     COUNTRY  Ratio\n",
      "usa     2065  41.30\n",
      "bra     1496  29.92\n",
      "deu      455   9.10\n",
      "tur      451   9.02\n",
      "fra      303   6.06\n",
      "can      230   4.60\n"
     ]
    },
    {
     "data": {
      "image/png": "[encoded data removed]",
      "text/plain": [
       "<Figure size 432x288 with 1 Axes>"
      ]
     },
     "metadata": {
      "needs_background": "light"
     },
     "output_type": "display_data"
    },
    {
     "name": "stdout",
     "output_type": "stream",
     "text": [
      "---------------------------------------------------------\n",
      "---------------------------------------------------------\n",
      "      AGE_RANGE  Ratio\n",
      "teen       4627  92.54\n",
      "old         373   7.46\n"
     ]
    },
    {
     "data": {
      "image/png": "[encoded data removed]",
      "text/plain": [
       "<Figure size 432x288 with 1 Axes>"
      ]
     },
     "metadata": {
      "needs_background": "light"
     },
     "output_type": "display_data"
    },
    {
     "name": "stdout",
     "output_type": "stream",
     "text": [
      "---------------------------------------------------------\n",
      "---------------------------------------------------------\n",
      "    PRICE  Ratio\n",
      "29   1305  26.10\n",
      "39   1260  25.20\n",
      "49   1031  20.62\n",
      "19    992  19.84\n",
      "59    212   4.24\n",
      "9     200   4.00\n"
     ]
    },
    {
     "data": {
      "image/png": "[encoded data removed]",
      "text/plain": [
       "<Figure size 432x288 with 1 Axes>"
      ]
     },
     "metadata": {
      "needs_background": "light"
     },
     "output_type": "display_data"
    },
    {
     "name": "stdout",
     "output_type": "stream",
     "text": [
      "---------------------------------------------------------\n",
      "---------------------------------------------------------\n"
     ]
    }
   ],
   "source": [
    "def cat_summary(dataframe, col_name, plot=False):\n",
    "\n",
    "    print(pd.DataFrame({col_name: dataframe[col_name].value_counts(),\n",
    "                        \"Ratio\": 100 * dataframe[col_name].value_counts() / len(dataframe)}))\n",
    "\n",
    "    if plot:\n",
    "        sns.countplot(x=dataframe[col_name], data=dataframe)\n",
    "        plt.show()\n",
    "        \n",
    "    print(\"-------------------\"*3)\n",
    "    print(\"-------------------\"*3)\n",
    "\n",
    "for col in cat_cols:\n",
    "    cat_summary(df, col, plot=True)"
   ]
  },
  {
   "cell_type": "markdown",
   "id": "24a43f8d-1826-4d79-b474-24e7552c753f",
   "metadata": {},
   "source": [
    "#### Count grafiklerine baktığımızda verimizde Android kullanıcılarının IOS kullanıcılarına göre biraz fazla olduğunu gözlemliyoruz.\n",
    "#### Verimizde cinsiyet dağılımının birbirine yakın olduğunu gözlemlitoruz.\n",
    "#### Verimize \"USA\" ve \"BRA\" ülkelerinden katılımın fazla olduğunu gözlemliyoruz.\n",
    "#### \"PRICE\" değişkenine baktığımızda orta segment telefon kullanıcıların yoğunluklu olduğunu gözlemliyoruz."
   ]
  },
  {
   "cell_type": "code",
   "execution_count": null,
   "id": "ce9bdb6f-5db0-4932-9a4e-b8c4f8b4e5e4",
   "metadata": {},
   "outputs": [],
   "source": []
  }
 ],
 "metadata": {
  "kernelspec": {
   "display_name": "Python 3 (ipykernel)",
   "language": "python",
   "name": "python3"
  },
  "language_info": {
   "codemirror_mode": {
    "name": "ipython",
    "version": 3
   },
   "file_extension": ".py",
   "mimetype": "text/x-python",
   "name": "python",
   "nbconvert_exporter": "python",
   "pygments_lexer": "ipython3",
   "version": "3.9.12"
  }
 },
 "nbformat": 4,
 "nbformat_minor": 5
}
